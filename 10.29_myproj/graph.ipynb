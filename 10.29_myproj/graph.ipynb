{
 "cells": [
  {
   "cell_type": "code",
   "execution_count": null,
   "metadata": {},
   "outputs": [],
   "source": [
    "from langchain_core.prompts import ChatPromptTemplate \n",
    "from langchain_openai import ChatOpenAI  \n",
    "_llm=ChatOpenAI(\n",
    "        api_key=\"ollama\",\n",
    "        model=\"qwen2.5:7b\",\n",
    "        base_url=\"http://0.0.0.0:60016/v1\",\n",
    "        temperature=0.6\n",
    "    )\n",
    "from planner import Planner\n",
    "from evaluer import Executor\n",
    "from planner_grand2 import Planner2\n",
    "from writer import Writer\n",
    "\n",
    "_planner = Planner(_llm)\n",
    "_evaluer = Executor(_llm)\n",
    "_planner_grand2 = Planner2(_llm)\n",
    "_writer= Writer(_llm)\n",
    "\n",
    "from typing import TypedDict\n",
    "from typing import Annotated\n",
    "from typing import List\n",
    "from operator import add\n"
   ]
  },
  {
   "cell_type": "code",
   "execution_count": 1,
   "metadata": {},
   "outputs": [
    {
     "ename": "NameError",
     "evalue": "name 'TypedDict' is not defined",
     "output_type": "error",
     "traceback": [
      "\u001b[0;31m---------------------------------------------------------------------------\u001b[0m",
      "\u001b[0;31mNameError\u001b[0m                                 Traceback (most recent call last)",
      "Cell \u001b[0;32mIn[1], line 1\u001b[0m\n\u001b[0;32m----> 1\u001b[0m \u001b[38;5;28;01mclass\u001b[39;00m \u001b[38;5;21;01mPlanState\u001b[39;00m(\u001b[43mTypedDict\u001b[49m):\n\u001b[1;32m      2\u001b[0m     query:\u001b[38;5;28mstr\u001b[39m\n\u001b[1;32m      3\u001b[0m     Topic:\u001b[38;5;28mstr\u001b[39m\n",
      "\u001b[0;31mNameError\u001b[0m: name 'TypedDict' is not defined"
     ]
    }
   ],
   "source": [
    "class PlanState(TypedDict):\n",
    "    query:str\n",
    "    Topic:str\n",
    "    outline_list:List[str]     #规约是覆盖，不用写\n",
    "    advise:Annotated[List[str],add]\n",
    "    Topic_Highlights:str\n",
    "    content:str\n",
    "def _planner_node(state):\n",
    "    _rt = _planner(state)\n",
    "    return _rt     \n",
    "def _evaluer_node(state):\n",
    "    _advise=state.get(\"advise\",[]) # 初始第一个是空\n",
    "    return{\"advise\":[evaluation_result]}\n",
    "def _planner_grand2_node(state):\n",
    "    _advise=state[\"advise\"]\n",
    "    return planner_result  \n",
    "def _writer_node(state):\n",
    "    _query=state[\"query\"]\n",
    "    return {\"content\":_rt}"
   ]
  },
  {
   "cell_type": "code",
   "execution_count": 3,
   "metadata": {},
   "outputs": [
    {
     "ename": "NameError",
     "evalue": "name 'PlanState' is not defined",
     "output_type": "error",
     "traceback": [
      "\u001b[0;31m---------------------------------------------------------------------------\u001b[0m",
      "\u001b[0;31mNameError\u001b[0m                                 Traceback (most recent call last)",
      "Cell \u001b[0;32mIn[3], line 3\u001b[0m\n\u001b[1;32m      1\u001b[0m \u001b[38;5;28;01mfrom\u001b[39;00m \u001b[38;5;21;01mlanggraph\u001b[39;00m\u001b[38;5;21;01m.\u001b[39;00m\u001b[38;5;21;01mgraph\u001b[39;00m \u001b[38;5;28;01mimport\u001b[39;00m StateGraph,MessagesState,START,END\n\u001b[0;32m----> 3\u001b[0m _builder\u001b[38;5;241m=\u001b[39mStateGraph(\u001b[43mPlanState\u001b[49m)\n\u001b[1;32m      5\u001b[0m _builder\u001b[38;5;241m.\u001b[39madd_node(\u001b[38;5;124m\"\u001b[39m\u001b[38;5;124m_planner_node\u001b[39m\u001b[38;5;124m\"\u001b[39m, _planner_node)\n\u001b[1;32m      6\u001b[0m _builder\u001b[38;5;241m.\u001b[39madd_node(\u001b[38;5;124m\"\u001b[39m\u001b[38;5;124m_evaluer_node\u001b[39m\u001b[38;5;124m\"\u001b[39m, _evaluer_node)\n",
      "\u001b[0;31mNameError\u001b[0m: name 'PlanState' is not defined"
     ]
    }
   ],
   "source": [
    "from langgraph.graph import StateGraph,MessagesState,START,END\n",
    "\n",
    "_builder=StateGraph(PlanState)\n",
    "\n",
    "_builder.add_node(\"_planner_node\", _planner_node)\n",
    "_builder.add_node(\"_evaluer_node\", _evaluer_node)\n",
    "_builder.add_node(\"_planner_grand2_node\", _planner_grand2_node)\n",
    "_builder.add_node(\"_writer_node\", _writer_node)\n",
    "\n",
    "\n",
    "_builder.add_edge(START,'_planner_node')\n",
    "_builder.add_edge('_planner_node',\"_evaluer_node\")\n",
    "_builder.add_edge('_evaluer_node',\"_planner_grand2_node\")\n",
    "_builder.add_edge(\"_planner_grand2_node\",'_writer_node')\n",
    "_builder.add_edge('_writer_node',END)\n",
    "\n",
    "_graph =_builder.compile()\n",
    "\n",
    "_rt=_graph.invoke({'query':\"  xdfsdf    \"})\n",
    "print(_rt)"
   ]
  }
 ],
 "metadata": {
  "kernelspec": {
   "display_name": "py310",
   "language": "python",
   "name": "python3"
  },
  "language_info": {
   "codemirror_mode": {
    "name": "ipython",
    "version": 3
   },
   "file_extension": ".py",
   "mimetype": "text/x-python",
   "name": "python",
   "nbconvert_exporter": "python",
   "pygments_lexer": "ipython3",
   "version": "3.10.14"
  }
 },
 "nbformat": 4,
 "nbformat_minor": 2
}
